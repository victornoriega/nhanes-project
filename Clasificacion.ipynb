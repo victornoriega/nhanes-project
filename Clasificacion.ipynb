{
 "cells": [
  {
   "cell_type": "code",
   "execution_count": 7,
   "metadata": {},
   "outputs": [],
   "source": [
    "import pandas as pd\n",
    "import matplotlib.pyplot as plt\n",
    "%matplotlib inline\n",
    "import seaborn as sns\n",
    "import numpy as np\n",
    "np.random.seed(42069)\n",
    "from sklearn.linear_model import LogisticRegression\n",
    "from sklearn.model_selection import KFold\n",
    "from sklearn.svm import LinearSVC\n",
    "from sklearn.neural_network import MLPClassifier\n",
    "from sklearn.neighbors import KNeighborsClassifier\n",
    "from sklearn.naive_bayes import GaussianNB\n",
    "from sklearn.naive_bayes import ComplementNB\n",
    "from sklearn.tree import DecisionTreeClassifier"
   ]
  },
  {
   "cell_type": "markdown",
   "metadata": {},
   "source": [
    "### Objetivo: A partir de las siguientes variables:\n",
    "### Edad, sexo, vitamina D, hormona paratiroidea, circunferencia de la cintura, indice de masa corporal, altura, raza (blanco, negro o mexicano), ingreso familiar anual, calcio, fósforo y energía en calorías...\n",
    "\n",
    "# Hacer un clasificador ¡De estado civil!\n",
    "\n",
    "### Las diferentes clases a encontrar son: \n",
    "\n",
    "1. Casado \n",
    "2. Viudo\n",
    "3. Divorciado\n",
    "4. Separado \n",
    "5. Nunca se ha casado\n",
    "6. En unión libre (Goals)"
   ]
  },
  {
   "cell_type": "code",
   "execution_count": 2,
   "metadata": {},
   "outputs": [
    {
     "name": "stdout",
     "output_type": "stream",
     "text": [
      "(17265, 16)\n",
      "(10312, 16)\n"
     ]
    },
    {
     "data": {
      "text/html": [
       "<div>\n",
       "<style scoped>\n",
       "    .dataframe tbody tr th:only-of-type {\n",
       "        vertical-align: middle;\n",
       "    }\n",
       "\n",
       "    .dataframe tbody tr th {\n",
       "        vertical-align: top;\n",
       "    }\n",
       "\n",
       "    .dataframe thead th {\n",
       "        text-align: right;\n",
       "    }\n",
       "</style>\n",
       "<table border=\"1\" class=\"dataframe\">\n",
       "  <thead>\n",
       "    <tr style=\"text-align: right;\">\n",
       "      <th></th>\n",
       "      <th>index</th>\n",
       "      <th>ridagemn</th>\n",
       "      <th>ridreth1</th>\n",
       "      <th>indhhinc</th>\n",
       "      <th>indfminc</th>\n",
       "      <th>indfmpir</th>\n",
       "      <th>lbdvidms</th>\n",
       "      <th>lbxpt21</th>\n",
       "      <th>riagendr</th>\n",
       "      <th>dr1tkcal</th>\n",
       "      <th>dr1tcalc</th>\n",
       "      <th>dr1tphos</th>\n",
       "      <th>bmxwt</th>\n",
       "      <th>bmxht</th>\n",
       "      <th>bmxbmi</th>\n",
       "      <th>bmxwaist</th>\n",
       "      <th>dmdmartl</th>\n",
       "    </tr>\n",
       "  </thead>\n",
       "  <tbody>\n",
       "    <tr>\n",
       "      <th>0</th>\n",
       "      <td>0</td>\n",
       "      <td>232.0</td>\n",
       "      <td>4</td>\n",
       "      <td>6.0</td>\n",
       "      <td>6.0</td>\n",
       "      <td>2.44</td>\n",
       "      <td>31.2</td>\n",
       "      <td>56.0</td>\n",
       "      <td>1</td>\n",
       "      <td>2984.0</td>\n",
       "      <td>419.0</td>\n",
       "      <td>993.0</td>\n",
       "      <td>137.6</td>\n",
       "      <td>164.5</td>\n",
       "      <td>50.85</td>\n",
       "      <td>135.9</td>\n",
       "      <td>5.0</td>\n",
       "    </tr>\n",
       "    <tr>\n",
       "      <th>1</th>\n",
       "      <td>1</td>\n",
       "      <td>203.0</td>\n",
       "      <td>4</td>\n",
       "      <td>7.0</td>\n",
       "      <td>6.0</td>\n",
       "      <td>2.47</td>\n",
       "      <td>45.9</td>\n",
       "      <td>47.0</td>\n",
       "      <td>2</td>\n",
       "      <td>1178.0</td>\n",
       "      <td>405.0</td>\n",
       "      <td>611.0</td>\n",
       "      <td>55.2</td>\n",
       "      <td>163.0</td>\n",
       "      <td>20.78</td>\n",
       "      <td>73.6</td>\n",
       "      <td>5.0</td>\n",
       "    </tr>\n",
       "    <tr>\n",
       "      <th>2</th>\n",
       "      <td>3</td>\n",
       "      <td>208.0</td>\n",
       "      <td>4</td>\n",
       "      <td>11.0</td>\n",
       "      <td>7.0</td>\n",
       "      <td>2.75</td>\n",
       "      <td>70.4</td>\n",
       "      <td>37.0</td>\n",
       "      <td>1</td>\n",
       "      <td>2457.0</td>\n",
       "      <td>633.0</td>\n",
       "      <td>1703.0</td>\n",
       "      <td>70.0</td>\n",
       "      <td>184.1</td>\n",
       "      <td>20.65</td>\n",
       "      <td>74.7</td>\n",
       "      <td>5.0</td>\n",
       "    </tr>\n",
       "    <tr>\n",
       "      <th>3</th>\n",
       "      <td>4</td>\n",
       "      <td>671.0</td>\n",
       "      <td>3</td>\n",
       "      <td>8.0</td>\n",
       "      <td>8.0</td>\n",
       "      <td>3.79</td>\n",
       "      <td>72.9</td>\n",
       "      <td>35.0</td>\n",
       "      <td>1</td>\n",
       "      <td>5606.0</td>\n",
       "      <td>1480.0</td>\n",
       "      <td>3661.0</td>\n",
       "      <td>103.1</td>\n",
       "      <td>181.6</td>\n",
       "      <td>31.26</td>\n",
       "      <td>118.4</td>\n",
       "      <td>1.0</td>\n",
       "    </tr>\n",
       "    <tr>\n",
       "      <th>4</th>\n",
       "      <td>5</td>\n",
       "      <td>633.0</td>\n",
       "      <td>3</td>\n",
       "      <td>6.0</td>\n",
       "      <td>4.0</td>\n",
       "      <td>1.24</td>\n",
       "      <td>40.9</td>\n",
       "      <td>26.0</td>\n",
       "      <td>2</td>\n",
       "      <td>2171.0</td>\n",
       "      <td>961.0</td>\n",
       "      <td>1265.0</td>\n",
       "      <td>67.9</td>\n",
       "      <td>163.2</td>\n",
       "      <td>25.49</td>\n",
       "      <td>91.4</td>\n",
       "      <td>6.0</td>\n",
       "    </tr>\n",
       "  </tbody>\n",
       "</table>\n",
       "</div>"
      ],
      "text/plain": [
       "   index  ridagemn  ridreth1  indhhinc  indfminc  indfmpir  lbdvidms  lbxpt21  \\\n",
       "0      0     232.0         4       6.0       6.0      2.44      31.2     56.0   \n",
       "1      1     203.0         4       7.0       6.0      2.47      45.9     47.0   \n",
       "2      3     208.0         4      11.0       7.0      2.75      70.4     37.0   \n",
       "3      4     671.0         3       8.0       8.0      3.79      72.9     35.0   \n",
       "4      5     633.0         3       6.0       4.0      1.24      40.9     26.0   \n",
       "\n",
       "   riagendr  dr1tkcal  dr1tcalc  dr1tphos  bmxwt  bmxht  bmxbmi  bmxwaist  \\\n",
       "0         1    2984.0     419.0     993.0  137.6  164.5   50.85     135.9   \n",
       "1         2    1178.0     405.0     611.0   55.2  163.0   20.78      73.6   \n",
       "2         1    2457.0     633.0    1703.0   70.0  184.1   20.65      74.7   \n",
       "3         1    5606.0    1480.0    3661.0  103.1  181.6   31.26     118.4   \n",
       "4         2    2171.0     961.0    1265.0   67.9  163.2   25.49      91.4   \n",
       "\n",
       "   dmdmartl  \n",
       "0       5.0  \n",
       "1       5.0  \n",
       "2       5.0  \n",
       "3       1.0  \n",
       "4       6.0  "
      ]
     },
     "execution_count": 2,
     "metadata": {},
     "output_type": "execute_result"
    }
   ],
   "source": [
    "df = pd.read_csv('BaseDatosEstudio.csv')\n",
    "datos = df.loc[:,['ridagemn', 'ridreth1', 'indhhinc', 'indfminc', 'indfmpir', 'lbdvidms', \n",
    "        'lbxpt21', 'riagendr', 'dr1tkcal', 'dr1tcalc', 'dr1tphos', 'bmxwt', 'bmxht', 'bmxbmi', 'bmxwaist', 'dmdmartl']]\n",
    "print(datos.shape)\n",
    "datos = datos.dropna()\n",
    "print(datos.shape)\n",
    "datos = datos.reset_index()\n",
    "datos.head()"
   ]
  },
  {
   "cell_type": "markdown",
   "metadata": {},
   "source": [
    "### Comenzando por una regresión logística. Al ser un problema multiclase, decidí usar One vs Rest.\n",
    "\n",
    "### Tampoco hay muchos datos después de la limpieza, así que vamos a usar KFolds(10) para reproducir datos de entrenamiento y testeo."
   ]
  },
  {
   "cell_type": "code",
   "execution_count": 3,
   "metadata": {},
   "outputs": [],
   "source": [
    "x = np.array(datos.drop(columns=['dmdmartl'], axis=1))\n",
    "y = datos['dmdmartl'].values\n",
    "clf = LogisticRegression(multi_class='ovr', solver='liblinear')"
   ]
  },
  {
   "cell_type": "code",
   "execution_count": 5,
   "metadata": {},
   "outputs": [
    {
     "name": "stdout",
     "output_type": "stream",
     "text": [
      "0.7112403100775194\n",
      "0.6976744186046512\n",
      "0.7051406401551892\n",
      "0.7129000969932104\n",
      "0.7119301648884578\n",
      "0.6799224054316197\n",
      "0.6789524733268671\n",
      "0.6692531522793405\n",
      "0.6847720659553831\n",
      "0.6876818622696411\n"
     ]
    }
   ],
   "source": [
    "kf = KFold(10)\n",
    "for train_index, test_index in kf.split(x):\n",
    "    X_train, X_test = x[train_index], x[test_index]\n",
    "    y_train, y_test = y[train_index], y[test_index]\n",
    "    \n",
    "    clf.fit(X_train, y_train)\n",
    "    \n",
    "    clf.predict(X_test)\n",
    "    print(clf.score(X_test, y_test))"
   ]
  },
  {
   "cell_type": "markdown",
   "metadata": {},
   "source": [
    "### Máquinas de vector de soporte: Solo pude usar kernel lineal. Al parecer utilizar kernels como el gaussiano, polinomial, sigmoidal etc rompía la máquina, porque son muchos datos. De todas maneras, no daban mas del 60% de exactitud"
   ]
  },
  {
   "cell_type": "code",
   "execution_count": 9,
   "metadata": {},
   "outputs": [
    {
     "name": "stdout",
     "output_type": "stream",
     "text": [
      "Exactitud promedio en 10 folds para SVM lineal 1: 0.6866739599545861\n",
      "Exactitud promedio en 10 folds para SVM lineal 2: 0.6866739599545861\n",
      "Exactitud promedio en 10 folds para Perceptron multicapa: 0.4708234648380816\n"
     ]
    }
   ],
   "source": [
    "clasificadores = [LinearSVC(dual=False, max_iter=1300),\n",
    "                  MLPClassifier(solver='lbfgs', alpha=1e-5, hidden_layer_sizes=(10, 10, 10, 5), random_state=1)]\n",
    "\n",
    "nombres =['SVM lineal 1', 'SVM lineal 2', 'Perceptron multicapa']\n",
    "\n",
    "for clf, name in zip(clasificadores, nombres):\n",
    "    suma = 0\n",
    "    for train_index, test_index in kf.split(x):\n",
    "        X_train, X_test = x[train_index], x[test_index]\n",
    "        y_train, y_test = y[train_index], y[test_index]\n",
    "        clf.fit(X_train, y_train)\n",
    "        clf.predict(X_test)\n",
    "        suma += clf.score(X_test, y_test)\n",
    "    print('Exactitud promedio en 10 folds para {}: {}'.format(name, suma/10))"
   ]
  },
  {
   "cell_type": "markdown",
   "metadata": {},
   "source": [
    "### El perceptrón multicapa de SKLearn, probado con 5 capas con diferentes números altos de neuronas. Resultados no fueron buenos quizá por el alto número de neuronas."
   ]
  },
  {
   "cell_type": "code",
   "execution_count": 4,
   "metadata": {},
   "outputs": [
    {
     "name": "stdout",
     "output_type": "stream",
     "text": [
      "Exactitud promedio en 10 folds: 0.09572177234415297\n",
      "Exactitud promedio en 10 folds: 0.09572177234415297\n",
      "Exactitud promedio en 10 folds: 0.3917866863660629\n",
      "Exactitud promedio en 10 folds: 0.3917866863660629\n",
      "Exactitud promedio en 10 folds: 0.36685473199046614\n"
     ]
    }
   ],
   "source": [
    "kf = KFold(10)\n",
    "clasificadores = [MLPClassifier(solver='lbfgs', alpha=1e-5, hidden_layer_sizes=(128, 256, 128, 64), random_state=1), \n",
    "                  MLPClassifier(solver='lbfgs', alpha=1e-4, hidden_layer_sizes=(128, 256, 128, 64), random_state=1),\n",
    "                 MLPClassifier(solver='lbfgs', alpha=1e-5, hidden_layer_sizes=(64, 128, 256, 128, 64), random_state=1),\n",
    "                 MLPClassifier(solver='lbfgs', alpha=1e-4, hidden_layer_sizes=(64, 128, 256, 128, 64), random_state=1),\n",
    "                 MLPClassifier(solver='lbfgs', alpha=1e-5, hidden_layer_sizes=(128, 128, 128, 128), random_state=1)]\n",
    "\n",
    "for clf in clasificadores:\n",
    "    suma = 0\n",
    "    for train_index, test_index in kf.split(x):\n",
    "        X_train, X_test = x[train_index], x[test_index]\n",
    "        y_train, y_test = y[train_index], y[test_index]\n",
    "        clf.fit(X_train, y_train)\n",
    "        clf.predict(X_test)\n",
    "        suma += clf.score(X_test, y_test)\n",
    "    print('Exactitud promedio en 10 folds: {}'.format(suma/10))"
   ]
  },
  {
   "cell_type": "markdown",
   "metadata": {},
   "source": [
    "### Probé también con otros algoritmos de clasificación, como el K vecinos, Naive Bayes y árboles de decisión."
   ]
  },
  {
   "cell_type": "code",
   "execution_count": 8,
   "metadata": {},
   "outputs": [
    {
     "name": "stdout",
     "output_type": "stream",
     "text": [
      "Exactitud promedio en 10 folds para K vecinos: 0.5420847149226685\n",
      "Exactitud promedio en 10 folds para Naive Bayes: 0.6267453138745405\n",
      "Exactitud promedio en 10 folds para Complement NB: 0.5255922037007796\n",
      "Exactitud promedio en 10 folds para Arboles de decisión: 0.6305271092263851\n"
     ]
    }
   ],
   "source": [
    "clasificadores = [KNeighborsClassifier(n_neighbors=4), GaussianNB(), ComplementNB(), DecisionTreeClassifier()]\n",
    "\n",
    "nombres =['K vecinos', 'Naive Bayes', 'Complement NB', 'Arboles de decisión']\n",
    "\n",
    "for clf, name in zip(clasificadores, nombres):\n",
    "    suma = 0\n",
    "    for train_index, test_index in kf.split(x):\n",
    "        X_train, X_test = x[train_index], x[test_index]\n",
    "        y_train, y_test = y[train_index], y[test_index]\n",
    "        clf.fit(X_train, y_train)\n",
    "        clf.predict(X_test)\n",
    "        suma += clf.score(X_test, y_test)\n",
    "    print('Exactitud promedio en 10 folds para {}: {}'.format(name, suma/10))"
   ]
  },
  {
   "cell_type": "markdown",
   "metadata": {},
   "source": [
    "### Y nuevamente probé con el percentron multicapa sin mucho éxito."
   ]
  },
  {
   "cell_type": "code",
   "execution_count": 9,
   "metadata": {},
   "outputs": [
    {
     "name": "stdout",
     "output_type": "stream",
     "text": [
      "Exactitud promedio en 10 folds: 0.41970541131888206\n",
      "Exactitud promedio en 10 folds: 0.20434768306528622\n",
      "Exactitud promedio en 10 folds: 0.47102102271445656\n"
     ]
    }
   ],
   "source": [
    "kf = KFold(10)\n",
    "clasificadores = [MLPClassifier(solver='lbfgs', alpha=1e-5, hidden_layer_sizes=(8, 16, 16, 8), random_state=1), \n",
    "                 MLPClassifier(solver='lbfgs', alpha=1e-5, hidden_layer_sizes=(16, 32, 64, 32, 16), random_state=1),\n",
    "                 MLPClassifier(solver='lbfgs', alpha=1e-5, hidden_layer_sizes=(16, 32, 32, 16), random_state=1)]\n",
    "\n",
    "for clf in clasificadores:\n",
    "    suma = 0\n",
    "    for train_index, test_index in kf.split(x):\n",
    "        X_train, X_test = x[train_index], x[test_index]\n",
    "        y_train, y_test = y[train_index], y[test_index]\n",
    "        clf.fit(X_train, y_train)\n",
    "        clf.predict(X_test)\n",
    "        suma += clf.score(X_test, y_test)\n",
    "    print('Exactitud promedio en 10 folds: {}'.format(suma/10))"
   ]
  },
  {
   "cell_type": "markdown",
   "metadata": {},
   "source": [
    "## Posibilidades a contemplar: \n",
    "## 1. Diseñar una red neuronal en tensorflow/keras \n",
    "## 2. Acercamiento semi-supervisado: hay registros en la base de datos que no contemplé por el hecho de que no viene registrado el estado civil de la persona. Es posible utilizar estos datos como no etiquetados para incrementar el número de datos."
   ]
  },
  {
   "cell_type": "code",
   "execution_count": null,
   "metadata": {},
   "outputs": [],
   "source": []
  }
 ],
 "metadata": {
  "kernelspec": {
   "display_name": "Python 3",
   "language": "python",
   "name": "python3"
  },
  "language_info": {
   "codemirror_mode": {
    "name": "ipython",
    "version": 3
   },
   "file_extension": ".py",
   "mimetype": "text/x-python",
   "name": "python",
   "nbconvert_exporter": "python",
   "pygments_lexer": "ipython3",
   "version": "3.7.0"
  }
 },
 "nbformat": 4,
 "nbformat_minor": 2
}
