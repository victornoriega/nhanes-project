{
 "cells": [
  {
   "cell_type": "code",
   "execution_count": 6,
   "metadata": {},
   "outputs": [],
   "source": [
    "import pandas as pd\n",
    "import matplotlib.pyplot as plt\n",
    "%matplotlib inline\n",
    "import seaborn as sns\n",
    "import numpy as np\n",
    "from scipy.stats import linregress\n",
    "from scipy.optimize import curve_fit\n",
    "np.random.seed(42069)"
   ]
  },
  {
   "cell_type": "code",
   "execution_count": 18,
   "metadata": {},
   "outputs": [
    {
     "data": {
      "text/html": [
       "<div>\n",
       "<style scoped>\n",
       "    .dataframe tbody tr th:only-of-type {\n",
       "        vertical-align: middle;\n",
       "    }\n",
       "\n",
       "    .dataframe tbody tr th {\n",
       "        vertical-align: top;\n",
       "    }\n",
       "\n",
       "    .dataframe thead th {\n",
       "        text-align: right;\n",
       "    }\n",
       "</style>\n",
       "<table border=\"1\" class=\"dataframe\">\n",
       "  <thead>\n",
       "    <tr style=\"text-align: right;\">\n",
       "      <th></th>\n",
       "      <th>seqn</th>\n",
       "      <th>sddsrvyr</th>\n",
       "      <th>ridstatr</th>\n",
       "      <th>ridexmon</th>\n",
       "      <th>riagendr</th>\n",
       "      <th>ridageyr</th>\n",
       "      <th>ridagemn</th>\n",
       "      <th>ridageex</th>\n",
       "      <th>ridreth1</th>\n",
       "      <th>dmqmilit</th>\n",
       "      <th>...</th>\n",
       "      <th>wtdr2d.1</th>\n",
       "      <th>dr2tkcal</th>\n",
       "      <th>dr2tcalc</th>\n",
       "      <th>dr2tphos</th>\n",
       "      <th>bmxwt</th>\n",
       "      <th>bmxht</th>\n",
       "      <th>bmxbmi</th>\n",
       "      <th>bmxwaist</th>\n",
       "      <th>bpxsar</th>\n",
       "      <th>bpxdar</th>\n",
       "    </tr>\n",
       "  </thead>\n",
       "  <tbody>\n",
       "    <tr>\n",
       "      <th>0</th>\n",
       "      <td>21005</td>\n",
       "      <td>3</td>\n",
       "      <td>2</td>\n",
       "      <td>1</td>\n",
       "      <td>1</td>\n",
       "      <td>19</td>\n",
       "      <td>232.0</td>\n",
       "      <td>233.0</td>\n",
       "      <td>4</td>\n",
       "      <td>2.0</td>\n",
       "      <td>...</td>\n",
       "      <td>2420.727816</td>\n",
       "      <td>2211.0</td>\n",
       "      <td>776.0</td>\n",
       "      <td>1292.0</td>\n",
       "      <td>137.6</td>\n",
       "      <td>164.5</td>\n",
       "      <td>50.85</td>\n",
       "      <td>135.9</td>\n",
       "      <td>NaN</td>\n",
       "      <td>NaN</td>\n",
       "    </tr>\n",
       "    <tr>\n",
       "      <th>1</th>\n",
       "      <td>21006</td>\n",
       "      <td>3</td>\n",
       "      <td>2</td>\n",
       "      <td>2</td>\n",
       "      <td>2</td>\n",
       "      <td>16</td>\n",
       "      <td>203.0</td>\n",
       "      <td>205.0</td>\n",
       "      <td>4</td>\n",
       "      <td>NaN</td>\n",
       "      <td>...</td>\n",
       "      <td>2312.365446</td>\n",
       "      <td>1218.0</td>\n",
       "      <td>493.0</td>\n",
       "      <td>705.0</td>\n",
       "      <td>55.2</td>\n",
       "      <td>163.0</td>\n",
       "      <td>20.78</td>\n",
       "      <td>73.6</td>\n",
       "      <td>98.0</td>\n",
       "      <td>50.0</td>\n",
       "    </tr>\n",
       "    <tr>\n",
       "      <th>2</th>\n",
       "      <td>21007</td>\n",
       "      <td>3</td>\n",
       "      <td>2</td>\n",
       "      <td>1</td>\n",
       "      <td>2</td>\n",
       "      <td>14</td>\n",
       "      <td>172.0</td>\n",
       "      <td>172.0</td>\n",
       "      <td>3</td>\n",
       "      <td>NaN</td>\n",
       "      <td>...</td>\n",
       "      <td>15327.120025</td>\n",
       "      <td>746.0</td>\n",
       "      <td>355.0</td>\n",
       "      <td>479.0</td>\n",
       "      <td>47.9</td>\n",
       "      <td>161.2</td>\n",
       "      <td>18.43</td>\n",
       "      <td>69.5</td>\n",
       "      <td>96.0</td>\n",
       "      <td>62.0</td>\n",
       "    </tr>\n",
       "    <tr>\n",
       "      <th>3</th>\n",
       "      <td>21008</td>\n",
       "      <td>3</td>\n",
       "      <td>2</td>\n",
       "      <td>2</td>\n",
       "      <td>1</td>\n",
       "      <td>17</td>\n",
       "      <td>208.0</td>\n",
       "      <td>209.0</td>\n",
       "      <td>4</td>\n",
       "      <td>2.0</td>\n",
       "      <td>...</td>\n",
       "      <td>18690.555956</td>\n",
       "      <td>2014.0</td>\n",
       "      <td>1435.0</td>\n",
       "      <td>1784.0</td>\n",
       "      <td>70.0</td>\n",
       "      <td>184.1</td>\n",
       "      <td>20.65</td>\n",
       "      <td>74.7</td>\n",
       "      <td>104.0</td>\n",
       "      <td>74.0</td>\n",
       "    </tr>\n",
       "    <tr>\n",
       "      <th>4</th>\n",
       "      <td>21009</td>\n",
       "      <td>3</td>\n",
       "      <td>2</td>\n",
       "      <td>2</td>\n",
       "      <td>1</td>\n",
       "      <td>55</td>\n",
       "      <td>671.0</td>\n",
       "      <td>672.0</td>\n",
       "      <td>3</td>\n",
       "      <td>2.0</td>\n",
       "      <td>...</td>\n",
       "      <td>170262.470827</td>\n",
       "      <td>3475.0</td>\n",
       "      <td>994.0</td>\n",
       "      <td>1710.0</td>\n",
       "      <td>103.1</td>\n",
       "      <td>181.6</td>\n",
       "      <td>31.26</td>\n",
       "      <td>118.4</td>\n",
       "      <td>118.0</td>\n",
       "      <td>85.0</td>\n",
       "    </tr>\n",
       "  </tbody>\n",
       "</table>\n",
       "<p>5 rows × 60 columns</p>\n",
       "</div>"
      ],
      "text/plain": [
       "    seqn  sddsrvyr  ridstatr  ridexmon  riagendr  ridageyr  ridagemn  \\\n",
       "0  21005         3         2         1         1        19     232.0   \n",
       "1  21006         3         2         2         2        16     203.0   \n",
       "2  21007         3         2         1         2        14     172.0   \n",
       "3  21008         3         2         2         1        17     208.0   \n",
       "4  21009         3         2         2         1        55     671.0   \n",
       "\n",
       "   ridageex  ridreth1  dmqmilit  ...       wtdr2d.1  dr2tkcal  dr2tcalc  \\\n",
       "0     233.0         4       2.0  ...    2420.727816    2211.0     776.0   \n",
       "1     205.0         4       NaN  ...    2312.365446    1218.0     493.0   \n",
       "2     172.0         3       NaN  ...   15327.120025     746.0     355.0   \n",
       "3     209.0         4       2.0  ...   18690.555956    2014.0    1435.0   \n",
       "4     672.0         3       2.0  ...  170262.470827    3475.0     994.0   \n",
       "\n",
       "   dr2tphos  bmxwt  bmxht  bmxbmi  bmxwaist  bpxsar  bpxdar  \n",
       "0    1292.0  137.6  164.5   50.85     135.9     NaN     NaN  \n",
       "1     705.0   55.2  163.0   20.78      73.6    98.0    50.0  \n",
       "2     479.0   47.9  161.2   18.43      69.5    96.0    62.0  \n",
       "3    1784.0   70.0  184.1   20.65      74.7   104.0    74.0  \n",
       "4    1710.0  103.1  181.6   31.26     118.4   118.0    85.0  \n",
       "\n",
       "[5 rows x 60 columns]"
      ]
     },
     "execution_count": 18,
     "metadata": {},
     "output_type": "execute_result"
    }
   ],
   "source": [
    "df = pd.read_csv('BaseDatosEstudio.csv')\n",
    "df = df.drop('Unnamed: 0', axis=1)\n",
    "df = df[pd.notnull(df['lbdvidms'])]\n",
    "df = df[pd.notnull(df['lbxpt21'])]\n",
    "df = df[df['lbxpt21'] >= 25]\n",
    "df.head()"
   ]
  },
  {
   "cell_type": "code",
   "execution_count": 19,
   "metadata": {},
   "outputs": [
    {
     "name": "stdout",
     "output_type": "stream",
     "text": [
      "[ 34.17092778 101.75868242   3.22192949]\n"
     ]
    },
    {
     "data": {
      "text/plain": [
       "[<matplotlib.lines.Line2D at 0x7fe83e459978>]"
      ]
     },
     "execution_count": 19,
     "metadata": {},
     "output_type": "execute_result"
    },
    {
     "data": {
      "image/png": "[encoded data removed]",
      "text/plain": [
       "<Figure size 432x288 with 1 Axes>"
      ]
     },
     "metadata": {
      "needs_background": "light"
     },
     "output_type": "display_data"
    }
   ],
   "source": [
    "def func(x, asym, b, lrc):\n",
    "    return asym + (b - asym) * np.exp(-x * np.exp(-lrc))\n",
    "\n",
    "popt, pcov = curve_fit(func, df['lbdvidms'], df['lbxpt21'])\n",
    "print(popt)\n",
    "plt.plot(df['lbdvidms'], func(df['lbdvidms'], *popt), 'r-',\n",
    "         label='fit: a=%5.3f, b=%5.3f, c=%5.3f' % tuple(popt))"
   ]
  },
  {
   "cell_type": "code",
   "execution_count": null,
   "metadata": {},
   "outputs": [],
   "source": []
  },
  {
   "cell_type": "code",
   "execution_count": null,
   "metadata": {},
   "outputs": [],
   "source": []
  },
  {
   "cell_type": "code",
   "execution_count": null,
   "metadata": {},
   "outputs": [],
   "source": []
  },
  {
   "cell_type": "code",
   "execution_count": null,
   "metadata": {},
   "outputs": [],
   "source": []
  },
  {
   "cell_type": "code",
   "execution_count": null,
   "metadata": {},
   "outputs": [],
   "source": []
  },
  {
   "cell_type": "code",
   "execution_count": null,
   "metadata": {},
   "outputs": [],
   "source": []
  },
  {
   "cell_type": "code",
   "execution_count": null,
   "metadata": {},
   "outputs": [],
   "source": []
  },
  {
   "cell_type": "code",
   "execution_count": null,
   "metadata": {},
   "outputs": [],
   "source": []
  },
  {
   "cell_type": "code",
   "execution_count": null,
   "metadata": {},
   "outputs": [],
   "source": []
  },
  {
   "cell_type": "code",
   "execution_count": null,
   "metadata": {},
   "outputs": [],
   "source": []
  },
  {
   "cell_type": "code",
   "execution_count": null,
   "metadata": {},
   "outputs": [],
   "source": []
  },
  {
   "cell_type": "code",
   "execution_count": null,
   "metadata": {},
   "outputs": [],
   "source": []
  },
  {
   "cell_type": "code",
   "execution_count": null,
   "metadata": {},
   "outputs": [],
   "source": []
  },
  {
   "cell_type": "code",
   "execution_count": null,
   "metadata": {},
   "outputs": [],
   "source": []
  },
  {
   "cell_type": "code",
   "execution_count": null,
   "metadata": {},
   "outputs": [],
   "source": []
  },
  {
   "cell_type": "code",
   "execution_count": null,
   "metadata": {},
   "outputs": [],
   "source": []
  },
  {
   "cell_type": "code",
   "execution_count": null,
   "metadata": {},
   "outputs": [],
   "source": []
  },
  {
   "cell_type": "markdown",
   "metadata": {},
   "source": []
  },
  {
   "cell_type": "code",
   "execution_count": null,
   "metadata": {},
   "outputs": [],
   "source": []
  }
 ],
 "metadata": {
  "kernelspec": {
   "display_name": "Python 3",
   "language": "python",
   "name": "python3"
  },
  "language_info": {
   "codemirror_mode": {
    "name": "ipython",
    "version": 3
   },
   "file_extension": ".py",
   "mimetype": "text/x-python",
   "name": "python",
   "nbconvert_exporter": "python",
   "pygments_lexer": "ipython3",
   "version": "3.7.3"
  }
 },
 "nbformat": 4,
 "nbformat_minor": 2
}
